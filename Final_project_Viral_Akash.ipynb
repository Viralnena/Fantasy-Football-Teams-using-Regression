{
 "cells": [
  {
   "cell_type": "markdown",
   "metadata": {},
   "source": [
    "# Title: Predicting Fantasy Football Teams using Regression with Regularisation\n",
    "\n",
    "#### Group Member Names : \n",
    "* Viral Nena (200531848)\n",
    "* Akash Chatra (200532153)\n"
   ]
  },
  {
   "cell_type": "markdown",
   "metadata": {},
   "source": [
    "### INTRODUCTION:\n",
    "*********************************************************************************************************************\n",
    "#### AIM : The aim of this project is to build a model capable of predicting high performing fantasy football teams\n",
    "\n",
    "*********************************************************************************************************************\n",
    "#### Github Repo: https://github.com/JoshuaPlacidi/Fantasy-Football-Team-Predictions.git\n",
    "\n",
    "*********************************************************************************************************************\n",
    "#### DESCRIPTION OF PAPER: \n",
    "The paper presents a hybrid methodology combining ARIMA and RNN models to predict football player points in Fantasy Premier League, optimizing player selection through Linear Programming. The approach, validated in the ongoing season, demonstrates effective performance prediction and potential for use by official on-field managers in the English Premier League.\n",
    "\n",
    "*********************************************************************************************************************\n",
    "#### PROBLEM STATEMENT : \n",
    "* Trying to replicate the process of the time series models explained in the research paper.\n",
    "* chose the respective available dataset. (Dataset was scaraped from the official FPL API and mergered into a single file)\n",
    "* Link for dataset before merging into single csv file :- https://github.com/vaastav/Fantasy-Premier-League/\n",
    "* The performance of football players is predicted using regularised regression-based machine learning algorithms, which are then compared.\n",
    "*********************************************************************************************************************\n",
    "#### CONTEXT OF THE PROBLEM:\n",
    "*  The challenge of optimizing player selection in Fantasy Premier League due to varying player performance across seasons, proposing a hybrid ARIMA-RNN model and Linear Programming to predict and maximize player points in the simulated environment.\n",
    "*********************************************************************************************************************\n",
    "#### SOLUTION:\n",
    "* The study aims to develop a predictive system for high-performing fantasy football teams using FPL data.\n",
    "* This task will be accomplished through linear regression, linear optimization, Arima-Rnn model. \n"
   ]
  },
  {
   "cell_type": "markdown",
   "metadata": {},
   "source": [
    "# Background\n",
    "*********************************************************************************************************************\n",
    "\n",
    "**Time series Modelling using Arima and RNN Algortihms**\n",
    "\n",
    "\n",
    "|Reference|Explanation|Dataset/Input|Weakness|\n",
    "|------|------|------|------|\n",
    "|Gupta, A. (2019).| Time series modeling for dream team in fantasy premier league.|players dataset|a study focused on using time series analysis techniques to improve the selection of players for a fantasy football team in the Fantasy Premier League (FPL).|\n",
    "\n",
    "\n",
    "**MDP (Bayesian belief model)**\n",
    "\n",
    "\n",
    "|Reference|Explanation|Dataset/Input|Weakness|\n",
    "|------|------|------|------|\n",
    "|Matthews, T., Ramchurn, S., & Chalkiadakis, G. (2012).|Competing with humans at fantasy football: Team formation in large partially-observable domains.| English Premier League(EPL) dataset|solve the sequential team formation problem posed by a popular online Fantasy Football game known as Fantasy Premier League (FPL), where a participant’s task (as manager) is to repeatedly select highly-constrained sets of players in order to maximise a score reflecting the real-world performances of those selected players in the English Premier League.|\n",
    "\n",
    "\n",
    "**Predictions using Machine learning**\n",
    "\n",
    "\n",
    "|Reference|Explanation|Dataset/Input|Weakness|\n",
    "|------|------|------|------|\n",
    "|Parikh, N. (2015).| Interactive tools for fantasy football analytics and predictions using machine learning|Fantasy Sports API dataset|A web-based tool for in-depth fantasy football analytics. We intend to build reliable predictive algorithms to project the success of specific football players.|\n",
    "\n",
    "\n",
    "\n",
    "\n",
    "\n",
    "*********************************************************************************************************************\n",
    "\n",
    "\n",
    "\n",
    "\n"
   ]
  },
  {
   "cell_type": "markdown",
   "metadata": {},
   "source": [
    "# Implement paper code :\n",
    "*********************************************************************************************************************"
   ]
  },
  {
   "cell_type": "markdown",
   "metadata": {},
   "source": [
    "#### Importing all the Library \n"
   ]
  },
  {
   "cell_type": "markdown",
   "metadata": {},
   "source": [
    "If Pulp is not installed, install using this \"!pip install pulp\""
   ]
  },
  {
   "cell_type": "code",
   "execution_count": 1,
   "metadata": {},
   "outputs": [],
   "source": [
    "import pandas as pd\n",
    "import numpy as np\n",
    "import altair as alt\n",
    "import pulp\n",
    "from sklearn import linear_model\n",
    "pd.options.mode.chained_assignment = None"
   ]
  },
  {
   "cell_type": "markdown",
   "metadata": {},
   "source": [
    "#### Predictions"
   ]
  },
  {
   "cell_type": "markdown",
   "metadata": {},
   "source": [
    "Calculate predictions with individual models trained for each position"
   ]
  },
  {
   "cell_type": "code",
   "execution_count": 2,
   "metadata": {},
   "outputs": [
    {
     "name": "stdout",
     "output_type": "stream",
     "text": [
      "GoalKeeper  Mean Error: 2.346\n",
      "Defender Mean Error: 2.308\n",
      "Mid Fielder Mean Error: 1.768\n",
      "Forward Mean Error: 2.147\n",
      "\n",
      "Total Mean Error: 2.048\n"
     ]
    }
   ],
   "source": [
    "data = pd.read_csv('Player_Data.csv', index_col = 0)\n",
    "train_data = data[data.season != 1920]\n",
    "test_data = data[data.season == 1920]\n",
    "\n",
    "gk_train = train_data[train_data.position == 1]\n",
    "gk_test = test_data[test_data.position == 1]\n",
    "\n",
    "def_train = train_data[train_data.position == 2]\n",
    "def_test = test_data[test_data.position == 2]\n",
    "\n",
    "mid_train = train_data[train_data.position == 3]\n",
    "mid_test = test_data[test_data.position == 3]\n",
    "\n",
    "fwd_train = train_data[train_data.position == 4]\n",
    "fwd_test = test_data[test_data.position == 4]\n",
    "\n",
    "features = ['opp_diff','was_home','minutes_sum','bps_sum',\n",
    "              'influence_sum','threat_sum','ict_sum','creat_sum',\n",
    "              'yel_sum','red_sum','selected_by','tran_sum',\n",
    "              'goals_sum','assists_sum','points_sum','value',\n",
    "              'saves_sum','goals_con_sum','clean_sheets_sum']\n",
    "\n",
    "gk_model = linear_model.LinearRegression()\n",
    "gk_model.fit(gk_train[features],gk_train.points)\n",
    "\n",
    "def_model = linear_model.LinearRegression()\n",
    "def_model.fit(def_train[features],def_train.points)\n",
    "\n",
    "mid_model = linear_model.LinearRegression()\n",
    "mid_model.fit(mid_train[features],mid_train.points)\n",
    "\n",
    "fwd_model = linear_model.LinearRegression()\n",
    "fwd_model.fit(fwd_train[features],fwd_train.points)\n",
    "\n",
    "gk_test['prediction'] = gk_model.predict(gk_test[features])\n",
    "gk_test['prediction_error'] = abs(gk_test.prediction - gk_test.points)\n",
    "\n",
    "def_test['prediction'] = def_model.predict(def_test[features])\n",
    "def_test['prediction_error'] = abs(def_test.prediction - def_test.points)\n",
    "\n",
    "mid_test['prediction'] = mid_model.predict(mid_test[features])\n",
    "mid_test['prediction_error'] = abs(mid_test.prediction - mid_test.points)\n",
    "\n",
    "fwd_test['prediction'] = fwd_model.predict(fwd_test[features])\n",
    "fwd_test['prediction_error'] = abs(fwd_test.prediction - fwd_test.points)\n",
    "\n",
    "all_predictions = pd.concat([gk_test, def_test, mid_test, fwd_test])\n",
    "\n",
    "print('GoalKeeper  Mean Error: ' + str(round(gk_test.prediction_error.mean(),3)))\n",
    "print('Defender Mean Error: ' + str(round(def_test.prediction_error.mean(),3)))\n",
    "print('Mid Fielder Mean Error: ' + str(round(mid_test.prediction_error.mean(),3)))\n",
    "print('Forward Mean Error: ' + str(round(fwd_test.prediction_error.mean(),3)) + '\\n')\n",
    "print('Total Mean Error: ' + str(round((all_predictions.prediction_error.mean()),3)))"
   ]
  },
  {
   "cell_type": "markdown",
   "metadata": {},
   "source": [
    "#### Select Team Functions"
   ]
  },
  {
   "cell_type": "markdown",
   "metadata": {},
   "source": [
    "Linear optimisation used to calculate the best legal team for each gameweek"
   ]
  },
  {
   "cell_type": "code",
   "execution_count": 3,
   "metadata": {},
   "outputs": [],
   "source": [
    "# Select a team for a given gameweek\n",
    "def select(gw, data_in, print_output=False):\n",
    "    sub_factor = 0.1\n",
    "    data_in = data_in[data_in.GW == gw]\n",
    "    first_team, captain, subs, cal_points = select_team(data_in, 100, sub_factor)\n",
    "\n",
    "    real_points_total = 0\n",
    "    predicted_points_total = 0\n",
    "    total_cost = 0\n",
    "\n",
    "    if(print_output):\n",
    "        print('Starting team')\n",
    "\n",
    "    for i in range(data_in.shape[0]):\n",
    "\n",
    "        if captain[i].value() != 0:\n",
    "            if(print_output):\n",
    "                print(print_player(data_in.iloc[i]) + ' (Captain)')\n",
    "            predicted_points_total += (data_in.iloc[i].prediction * 2)\n",
    "            real_points_total += (data_in.iloc[i].points * 2)\n",
    "            total_cost += data_in.iloc[i].value\n",
    "\n",
    "        elif first_team[i].value() != 0:\n",
    "            if(print_output):\n",
    "                print(print_player(data_in.iloc[i]))\n",
    "\n",
    "            predicted_points_total += data_in.iloc[i].prediction\n",
    "            real_points_total += data_in.iloc[i].points\n",
    "            total_cost += data_in.iloc[i].value\n",
    "\n",
    "    if(print_output):\n",
    "        print('\\n' + 'Substitutes')\n",
    "  \n",
    "    sub_points = 0\n",
    "    for i in range(data_in.shape[0]):\n",
    "        if subs[i].value() != 0:\n",
    "            if(print_output):\n",
    "                print(print_player(data_in.iloc[i]))\n",
    "            total_cost += data_in.iloc[i].value\n",
    "\n",
    "    #total_points = total_points - (sub_points * sub_factor)\n",
    "    error = abs(real_points_total - predicted_points_total)\n",
    "\n",
    "    if(print_output):\n",
    "        print('\\n' + 'Predicted Points    ' + str(round(predicted_points_total,2)))\n",
    "        print('Real Points         '        + str(real_points_total))\n",
    "        print('Error               '        + str(abs(round(error,2))))\n",
    "        print('Cost                '        + '£' + str(round(total_cost/10.0,2)) + 'M\\n')  \n",
    "\n",
    "    return predicted_points_total, real_points_total, total_cost/10.0"
   ]
  },
  {
   "cell_type": "code",
   "execution_count": 4,
   "metadata": {},
   "outputs": [],
   "source": [
    "def print_player(player):\n",
    "    return  ' [' + str(player.player_id) + '] ' + ' (Pred:' + str(round(player.prediction,1)) + ' | Real:' + str(round(player.points,2)) + ') ' +  player.first_name + ' ' + player.second_name\n"
   ]
  },
  {
   "cell_type": "code",
   "execution_count": 5,
   "metadata": {},
   "outputs": [],
   "source": [
    "# Runs selection over a range of gameweeks\n",
    "def select_range(start_gw, end_gw, data_in):\n",
    "    total_error = 0\n",
    "    points = 0\n",
    "    real_points = 0\n",
    "    for gw in range(start_gw, end_gw):\n",
    "        predicted_score, real_score, error = select(gw, data_in, False)\n",
    "        print('GW' + str(gw) + '---------------------------')\n",
    "        print('Predicted Score : ' + str(round(predicted_score,2)) + ' Points')\n",
    "        print('Real Score      : ' + str(real_score) + '.00 Points')\n",
    "        total_error += abs(error)\n",
    "        points += predicted_score\n",
    "        real_points += real_score\n",
    "\n",
    "    print('\\nPredicted       ' + str(round(points,2)))\n",
    "    print('Real            ' + str(round(real_points,2)))\n",
    "    print('Total Error     ' + str(round(total_error,2)))\n",
    "    print('Average Error   ' + str(round(total_error / (end_gw - start_gw),2)))\n"
   ]
  },
  {
   "cell_type": "code",
   "execution_count": 6,
   "metadata": {},
   "outputs": [],
   "source": [
    "def select_team(player_data, budget, sub_factor):\n",
    "    num_players = len(player_data)\n",
    "    model = pulp.LpProblem(\"Constrained_value_maximisation\", pulp.LpMaximize)\n",
    "\n",
    "    # Array to store players selected for the starting team\n",
    "    decisions = [ pulp.LpVariable(\"x{}\".format(i), lowBound=0, upBound=1, cat='Integer') for i in range(num_players)]\n",
    "\n",
    "    # Array to captain decision\n",
    "    captain_decisions = [pulp.LpVariable(\"y{}\".format(i), lowBound=0, upBound=1, cat='Integer')for i in range(num_players)]\n",
    "\n",
    "    # Array to store sub decisions\n",
    "    sub_decisions = [pulp.LpVariable(\"z{}\".format(i), lowBound=0, upBound=1, cat='Integer') for i in range(num_players)]\n",
    "\n",
    "    # objective function\n",
    "    model += sum((captain_decisions[i] + decisions[i] + sub_decisions[i]*sub_factor) * player_data.iloc[i].prediction\n",
    "                for i in range(num_players)), \"Objective\"\n",
    "\n",
    "    # cost constraint\n",
    "    model += sum((decisions[i] + sub_decisions[i]) * (player_data.iloc[i].value / 10.0)\n",
    "              for i in range(num_players)) <= budget  # total cost\n",
    "\n",
    "    # position constraints\n",
    "    # 1 starting goalkeeper\n",
    "    model += sum(decisions[i] for i in range(num_players) if player_data.iloc[i].position == 1) == 1\n",
    "    # 2 total goalkeepers\n",
    "    model += sum(decisions[i] + sub_decisions[i] for i in range(num_players) if player_data.iloc[i].position == 1) == 2\n",
    "\n",
    "    # Select the starting defenders\n",
    "    # Must be between 3 and 5 starting defenders\n",
    "    model += sum(decisions[i] for i in range(num_players) if player_data.iloc[i].position == 2) >= 3\n",
    "\n",
    "    model += sum(decisions[i] for i in range(num_players) if player_data.iloc[i].position == 2) <= 5\n",
    "\n",
    "    # Select all defenders\n",
    "    # Must be 5 defenders selected\n",
    "    model += sum(decisions[i] + sub_decisions[i] for i in range(num_players) if player_data.iloc[i].position == 2) == 5\n",
    "\n",
    "    # Select midfielders\n",
    "    # Must be between 3 and 5 starting midfielders selected\n",
    "    model += sum(decisions[i] for i in range(num_players) if player_data.iloc[i].position == 3) >= 3\n",
    "    model += sum(decisions[i] for i in range(num_players) if player_data.iloc[i].position == 3) <= 5\n",
    "\n",
    "\n",
    "    # 5 all midfielders\n",
    "    # Must be 5 midfielders selected\n",
    "    model += sum(decisions[i] + sub_decisions[i]\n",
    "               for i in range(num_players) if player_data.iloc[i].position == 3) == 5\n",
    "\n",
    "    # Select forwards\n",
    "    # Must be between 1 and 3 starting forwards\n",
    "    model += sum(decisions[i] for i in range(num_players) if player_data.iloc[i].position == 4) >= 1\n",
    "    model += sum(decisions[i] for i in range(num_players) if player_data.iloc[i].position == 4) <= 3\n",
    "\n",
    "    # Must be 3 forwards selected\n",
    "    model += sum(decisions[i] + sub_decisions[i] for i in range(num_players) if player_data.iloc[i].position == 4) == 3\n",
    "\n",
    "    # Only 3 players can be selected from a single club\n",
    "    team_codes = np.unique(player_data.team_code)\n",
    "    for team_id in np.unique(team_codes):\n",
    "        model += sum(decisions[i] + sub_decisions[i]\n",
    "                   for i in range(num_players) if player_data.iloc[i].team_code == team_id) <= 3  # max 3 players\n",
    "\n",
    "    # 11 starting players must be selected\n",
    "    model += sum(decisions) == 11\n",
    "\n",
    "    # 1 of the starting players must be selected as captain\n",
    "    model += sum(captain_decisions) == 1  # 1 captain\n",
    "  \n",
    "    # Check player selections are valid\n",
    "    for i in range(num_players):  \n",
    "        # Captain has to be present in starting team\n",
    "        model += (decisions[i] - captain_decisions[i]) >= 0\n",
    "        # Subs cannot be present in starting team\n",
    "        model += (decisions[i] + sub_decisions[i]) <= 1 \n",
    "\n",
    "    model.solve()\n",
    "\n",
    "    return decisions, captain_decisions, sub_decisions, model.objective.value()"
   ]
  },
  {
   "cell_type": "markdown",
   "metadata": {},
   "source": [
    "#### Generate Predictions\n"
   ]
  },
  {
   "cell_type": "markdown",
   "metadata": {},
   "source": [
    "gw = the gameweek to make predictions for"
   ]
  },
  {
   "cell_type": "code",
   "execution_count": 7,
   "metadata": {},
   "outputs": [
    {
     "name": "stdout",
     "output_type": "stream",
     "text": [
      "Starting team\n",
      " [168]  (Pred:4.1 | Real:14) Kasper Schmeichel\n",
      " [401]  (Pred:5.0 | Real:6) Matt Doherty\n",
      " [251]  (Pred:4.6 | Real:8) Matt Ritchie\n",
      " [182]  (Pred:6.4 | Real:14) Trent Alexander-Arnold\n",
      " [183]  (Pred:5.8 | Real:9) Virgil van Dijk\n",
      " [239]  (Pred:5.2 | Real:21) Anthony Martial\n",
      " [344]  (Pred:5.3 | Real:1) Bamidele Alli\n",
      " [172]  (Pred:4.6 | Real:1) Harvey Barnes\n",
      " [171]  (Pred:4.8 | Real:3) James Maddison\n",
      " [191]  (Pred:7.3 | Real:11) Mohamed Salah (Captain)\n",
      " [409]  (Pred:5.0 | Real:9) Raúl Jiménez\n",
      "\n",
      "Substitutes\n",
      " [427]  (Pred:3.6 | Real:8) Emiliano Martínez\n",
      " [256]  (Pred:3.6 | Real:2) Javier Manquillo\n",
      " [234]  (Pred:2.0 | Real:2) Mason Greenwood\n",
      " [554]  (Pred:3.4 | Real:8) Dwight Gayle\n",
      "\n",
      "Predicted Points    65.52\n",
      "Real Points         108\n",
      "Error               42.48\n",
      "Cost                £100.0M\n",
      "\n"
     ]
    }
   ],
   "source": [
    "gw = 40\n",
    "predicted_points, real_points, cost = select(gw,all_predictions,True)"
   ]
  },
  {
   "cell_type": "code",
   "execution_count": 8,
   "metadata": {},
   "outputs": [
    {
     "name": "stdout",
     "output_type": "stream",
     "text": [
      "GW4---------------------------\n",
      "Predicted Score : 65.79 Points\n",
      "Real Score      : 60.00 Points\n",
      "GW5---------------------------\n",
      "Predicted Score : 65.24 Points\n",
      "Real Score      : 60.00 Points\n",
      "GW6---------------------------\n",
      "Predicted Score : 64.24 Points\n",
      "Real Score      : 70.00 Points\n",
      "GW7---------------------------\n",
      "Predicted Score : 64.48 Points\n",
      "Real Score      : 49.00 Points\n",
      "GW8---------------------------\n",
      "Predicted Score : 64.62 Points\n",
      "Real Score      : 56.00 Points\n",
      "\n",
      "Predicted       324.38\n",
      "Real            295\n",
      "Total Error     499.7\n",
      "Average Error   99.94\n"
     ]
    }
   ],
   "source": [
    "select_range(4,9, all_predictions)"
   ]
  },
  {
   "cell_type": "code",
   "execution_count": null,
   "metadata": {},
   "outputs": [],
   "source": []
  },
  {
   "cell_type": "markdown",
   "metadata": {},
   "source": [
    "*********************************************************************************************************************\n",
    "### Contribution  Code :\n",
    "* "
   ]
  },
  {
   "cell_type": "markdown",
   "metadata": {},
   "source": [
    "implementing ridge regression model instead of linear regression model on players statistics to reduce the error. "
   ]
  },
  {
   "cell_type": "code",
   "execution_count": 9,
   "metadata": {},
   "outputs": [],
   "source": [
    "from sklearn.linear_model import Ridge"
   ]
  },
  {
   "cell_type": "code",
   "execution_count": 10,
   "metadata": {},
   "outputs": [],
   "source": [
    "# Initialize Ridge regression models\n",
    "gk_model = Ridge(alpha=0.8)  \n",
    "def_model = Ridge(alpha=0.8)\n",
    "mid_model = Ridge(alpha=0.8)\n",
    "fwd_model = Ridge(alpha=0.8)"
   ]
  },
  {
   "cell_type": "code",
   "execution_count": 11,
   "metadata": {},
   "outputs": [
    {
     "name": "stderr",
     "output_type": "stream",
     "text": [
      "C:\\Users\\viral\\anaconda3\\lib\\site-packages\\sklearn\\linear_model\\_ridge.py:157: LinAlgWarning: Ill-conditioned matrix (rcond=5.00527e-17): result may not be accurate.\n",
      "  return linalg.solve(A, Xy, sym_pos=True, overwrite_a=True).T\n"
     ]
    },
    {
     "data": {
      "text/plain": [
       "Ridge(alpha=0.8)"
      ]
     },
     "execution_count": 11,
     "metadata": {},
     "output_type": "execute_result"
    }
   ],
   "source": [
    "# Fit Ridge regression models\n",
    "gk_model.fit(gk_train[features], gk_train.points)\n",
    "def_model.fit(def_train[features], def_train.points)\n",
    "mid_model.fit(mid_train[features], mid_train.points)\n",
    "fwd_model.fit(fwd_train[features], fwd_train.points)"
   ]
  },
  {
   "cell_type": "code",
   "execution_count": 12,
   "metadata": {},
   "outputs": [],
   "source": [
    "# Make predictions\n",
    "gk_test['prediction'] = gk_model.predict(gk_test[features])\n",
    "def_test['prediction'] = def_model.predict(def_test[features])\n",
    "mid_test['prediction'] = mid_model.predict(mid_test[features])\n",
    "fwd_test['prediction'] = fwd_model.predict(fwd_test[features])"
   ]
  },
  {
   "cell_type": "code",
   "execution_count": 13,
   "metadata": {},
   "outputs": [],
   "source": [
    "# Calculate prediction errors\n",
    "gk_test['prediction_error'] = abs(gk_test.prediction - gk_test.points)\n",
    "def_test['prediction_error'] = abs(def_test.prediction - def_test.points)\n",
    "mid_test['prediction_error'] = abs(mid_test.prediction - mid_test.points)\n",
    "fwd_test['prediction_error'] = abs(fwd_test.prediction - fwd_test.points)"
   ]
  },
  {
   "cell_type": "code",
   "execution_count": 14,
   "metadata": {},
   "outputs": [
    {
     "name": "stdout",
     "output_type": "stream",
     "text": [
      "GoalKeeper Mean Error: 2.346\n",
      "Defender Mean Error: 2.308\n",
      "Mid Fielder Mean Error: 1.768\n",
      "Forward Mean Error: 2.147\n",
      "\n"
     ]
    }
   ],
   "source": [
    "# Calculate mean errors and print\n",
    "print('GoalKeeper Mean Error: ' + str(round(gk_test.prediction_error.mean(), 3)))\n",
    "print('Defender Mean Error: ' + str(round(def_test.prediction_error.mean(), 3)))\n",
    "print('Mid Fielder Mean Error: ' + str(round(mid_test.prediction_error.mean(), 3)))\n",
    "print('Forward Mean Error: ' + str(round(fwd_test.prediction_error.mean(), 3)) + '\\n')"
   ]
  },
  {
   "cell_type": "markdown",
   "metadata": {},
   "source": [
    "### Results :\n",
    "**************************************************************************************************************************\n",
    "For both the models Linear regression and Ridge model, we can verify it with the help of mean error score to compare the scores.\n",
    "\n",
    "#### Observations :\n",
    "*******************************************************************************************************************************\n",
    "* We have implemented both the models on the same data set (players dataset)\n",
    "* we can compare both the models here with the mean error score.\n",
    "* both the models has performed almost similar and got similar results.\n"
   ]
  },
  {
   "cell_type": "markdown",
   "metadata": {},
   "source": [
    "### Conclusion and Future Direction :\n",
    "*******************************************************************************************************************************\n",
    "#### Learnings : \n",
    "During the implementations of this project, i learnt how to replicate the research paper using the github repo. Here i have learnt how how to reduce the chances of overfitting the model. Undestanding the importance of features in predicting performance. For evaluating the model use of metrics such as mean error. experimenting with the features, parameter on models to improve accuracy of the model. \n",
    "*******************************************************************************************************************************\n",
    "#### Results Discussion :\n",
    "\n",
    "Two models—Linear Regression and Ridge Regression—were used in this project's outcomes, and their outcomes were compared. The performance of both models was assessed using the mean error score after they were applied to a dataset, specifically the players dataset.\n",
    "\n",
    "It was clear from the results that both models behaved very similarly, producing similar mean error ratings. This implies that the target variable on this dataset was successfully predicted using both linear regression and ridge regression. Their different approaches to handling the correlation between characteristics and the goal variable may be responsible for the slight variation in their performances.\n",
    "\n",
    "Overfitting was a problem, and balanced training and testing data helped. The model generalization and feature significance of Ridge Regression were noticed. Future plans call for the use of bigger datasets and more sophisticated algorithms. The performance of the models, the author's learning, limitations, and future directions are highlighted in the discussion. the discussion of results emphasizes the comparable performance of Linear Regression and Ridge Regression models on the given dataset. The project served as a platform for the author to learn, experiment, and draw insights into the intricacies of model implementation and evaluation. While highlighting limitations and potential extensions, the author's understanding of the underlying concepts and their practical implications is evident. \n",
    "#### Limitations :\n",
    "* Over fitting of model can be real challenge , so balancing training testing can help in generalizing the unseen data.  \n",
    "* These model shrinks coefficients towards zero, potentially keeping less important features in the model.\n",
    "*******************************************************************************************************************************\n",
    "#### Future Extension :\n",
    "* To improve the accuracy of the model we implement the model on a larger data set. \n",
    "* for predections the algorithms can be implemented with some advance model."
   ]
  },
  {
   "cell_type": "markdown",
   "metadata": {},
   "source": [
    "# References:\n",
    "\n",
    "* Interactive Tools for Fantasy Football Analytics and Predictions using Machine Learning Neena Parikh 2014: https://dspace.mit.edu/handle/1721.1/100687\n",
    "\n",
    "* Time Series Modelling for Dream Team in Fantasy Premier League Akhil Gupta 2017: https://arxiv.org/abs/1909.12938\n",
    "\n",
    "* Han J, Kamber M, Pei J. Data Preprocessing. Data Mining Concepts and Techniques 2011; 83-124: Morgan Kauffman Publications.\n",
    "\n",
    "* Shivani, K. S. Sandhu and A. Ramachandran Nair, \"A Comparative Study of ARIMA and RNN for Short Term Wind Speed Forecasting,\" 2019 10th International Conference on Computing, Communication and Networking Technologies (ICCCNT), Kanpur, India, 2019, pp. 1-7, doi: 10.1109/ICCCNT45670.2019.8944466.\n"
   ]
  },
  {
   "cell_type": "markdown",
   "metadata": {},
   "source": []
  }
 ],
 "metadata": {
  "kernelspec": {
   "display_name": "Python 3 (ipykernel)",
   "language": "python",
   "name": "python3"
  },
  "language_info": {
   "codemirror_mode": {
    "name": "ipython",
    "version": 3
   },
   "file_extension": ".py",
   "mimetype": "text/x-python",
   "name": "python",
   "nbconvert_exporter": "python",
   "pygments_lexer": "ipython3",
   "version": "3.9.12"
  }
 },
 "nbformat": 4,
 "nbformat_minor": 2
}
